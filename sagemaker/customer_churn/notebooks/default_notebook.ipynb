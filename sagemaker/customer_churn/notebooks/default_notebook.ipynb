{
 "cells": [
  {
   "cell_type": "code",
   "execution_count": null,
   "metadata": {},
   "outputs": [],
   "source": [
    "import pandas as pd\n",
    "import boto3\n",
    "\n",
    "s3 = boto3.client(\"s3\")\n",
    "s3.download_file(\"sagemaker-us-east-1-084375569056\", \"data/train.csv\", \"train.csv\")\n",
    "df = pd.read_csv(\"train.csv\")\n",
    "if \"Churn\" not in df.columns:\n",
    "    raise ValueError(\"Column 'Churn' not found.\")\n",
    "df[\"Churn\"] = df[\"Churn\"].map({\"Yes\": 1, \"No\": 0})\n",
    "if \"customerID\" in df.columns:\n",
    "    df = df.drop(columns=[\"customerID\"])\n",
    "categorical_cols = df.select_dtypes(include=[\"object\"]).columns\n",
    "for col in categorical_cols:\n",
    "    df[col] = df[col].astype(\"category\").cat.codes\n",
    "for col in df.columns:\n",
    "    if df[col].dtype == \"object\":\n",
    "        df[col] = pd.to_numeric(df[col], errors=\"coerce\").fillna(0)\n",
    "columns = [\"Churn\"] + [col for col in df.columns if col != \"Churn\"]\n",
    "df = df[columns]\n",
    "df.to_csv(\"train_processed.csv\", header=False, index=False)\n",
    "s3.upload_file(\"train_processed.csv\", \"sagemaker-us-east-1-084375569056\", \"data/train_processed.csv\")\n",
    "print(\"Uploaded processed dataset to S3\")"
   ]
  },
  {
   "cell_type": "code",
   "execution_count": null,
   "metadata": {},
   "outputs": [],
   "source": [
    "import sagemaker\n",
    "from sagemaker.estimator import Estimator\n",
    "from sagemaker.inputs import TrainingInput\n",
    "\n",
    "session = sagemaker.Session()\n",
    "estimator = Estimator(\n",
    "    image_uri=sagemaker.image_uris.retrieve(\"xgboost\", region=\"us-east-1\", version=\"latest\"),\n",
    "    role=\"arn:aws:iam::084375569056:role/service-role/AmazonSageMaker-ExecutionRole-20250520T093901\",\n",
    "    instance_count=1,\n",
    "    instance_type=\"ml.m5.large\",\n",
    "    output_path=\"s3://sagemaker-us-east-1-084375569056/output/\",\n",
    "    sagemaker_session=session\n",
    ")\n",
    "estimator.set_hyperparameters(\n",
    "    max_depth=5,\n",
    "    eta=0.2,\n",
    "    gamma=4,\n",
    "    min_child_weight=6,\n",
    "    subsample=0.8,\n",
    "    objective=\"binary:logistic\",\n",
    "    num_round=100\n",
    ")\n",
    "train_input = TrainingInput(\n",
    "    s3_data=\"s3://sagemaker-us-east-1-084375569056/data/train_processed.csv\",\n",
    "    content_type=\"csv\"\n",
    ")\n",
    "estimator.fit({\"train\": train_input})"
   ]
  },
  {
   "cell_type": "code",
   "execution_count": null,
   "metadata": {},
   "outputs": [],
   "source": [
    "from sagemaker.predictor import Predictor\n",
    "from sagemaker.serializers import CSVSerializer\n",
    "\n",
    "predictor = estimator.deploy(\n",
    "    initial_instance_count=1,\n",
    "    instance_type=\"ml.t2.medium\",\n",
    "    serializer=CSVSerializer()\n",
    ")\n",
    "predictor.delete_endpoint()"
   ]
  }
 ],
 "metadata": {
  "kernelspec": {
   "display_name": "Python 3",
   "language": "python",
   "name": "python3"
  },
  "language_info": {
   "codemirror_mode": {
    "name": "ipython",
    "version": 3
   },
   "file_extension": ".py",
   "mimetype": "text/x-python",
   "name": "python",
   "nbconvert_exporter": "python",
   "pygments_lexer": "ipython3",
   "version": "3.8.10"
  }
 },
 "nbformat": 4,
 "nbformat_minor": 5
}
